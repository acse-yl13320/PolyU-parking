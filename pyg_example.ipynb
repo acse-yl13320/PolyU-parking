{
 "cells": [
  {
   "cell_type": "code",
   "execution_count": 1,
   "metadata": {},
   "outputs": [
    {
     "name": "stdout",
     "output_type": "stream",
     "text": [
      "loading dataset to memory...\n"
     ]
    },
    {
     "name": "stderr",
     "output_type": "stream",
     "text": [
      "100%|██████████| 33951/33951 [00:10<00:00, 3143.90it/s]\n"
     ]
    },
    {
     "name": "stdout",
     "output_type": "stream",
     "text": [
      "find min max scale...\n"
     ]
    },
    {
     "name": "stderr",
     "output_type": "stream",
     "text": [
      "100%|██████████| 17893/17893 [00:56<00:00, 317.68it/s]\n"
     ]
    },
    {
     "name": "stdout",
     "output_type": "stream",
     "text": [
      "mean\n",
      "loss_t_1: 0.042821810180971434\n",
      "loss_t_2: 0.048167781506811364\n",
      "loss_t_3: 0.053423652283104896\n",
      "loss_t_avg: 0.0481377479902959\n",
      "{'ga_mae_15min': 0.10947810770867873, 'ga_mape_15min': 32.48946864695691, 'ga_mae_30min': 0.11793907865039134, 'ga_mape_30min': 33.87155242273515, 'ga_mae_45min': 0.12604664900801663, 'ga_mape_45min': 35.15314298887833}\n"
     ]
    },
    {
     "name": "stderr",
     "output_type": "stream",
     "text": [
      "100%|██████████| 17893/17893 [00:57<00:00, 313.33it/s]\n"
     ]
    },
    {
     "name": "stdout",
     "output_type": "stream",
     "text": [
      "last\n",
      "loss_t_1: 0.02087522283796336\n",
      "loss_t_2: 0.026237389378382325\n",
      "loss_t_3: 0.03260433052044602\n",
      "loss_t_avg: 0.026572314245597237\n",
      "{'ga_mae_15min': 0.03760586104849234, 'ga_mape_15min': 11.033660160397922, 'ga_mae_30min': 0.05067641565957381, 'ga_mape_30min': 14.87298978650869, 'ga_mae_45min': 0.06324031569764069, 'ga_mape_45min': 17.90166894875091}\n"
     ]
    },
    {
     "name": "stderr",
     "output_type": "stream",
     "text": [
      "100%|██████████| 17605/17605 [00:57<00:00, 303.63it/s]"
     ]
    },
    {
     "name": "stdout",
     "output_type": "stream",
     "text": [
      "loss_t_avg: 0.0836771137215323\n",
      "None\n"
     ]
    },
    {
     "name": "stderr",
     "output_type": "stream",
     "text": [
      "\n"
     ]
    }
   ],
   "source": [
    "from utils import *\n",
    "\n",
    "dataset = ParkDataset('2022/garage_dataset', len_x=50, in_memory=True)\n",
    "train_set = dataset[:16000]\n",
    "test_set = dataset[16000:]\n",
    "\n",
    "scalar = dataset_scalar(train_set)\n",
    "train_set.set_scalar(*scalar)\n",
    "test_set.set_scalar(*scalar)\n",
    "\n",
    "baseline(test_set, method='mean')\n",
    "baseline(test_set, method='last')\n",
    "baseline(test_set, method='yesterday')"
   ]
  },
  {
   "cell_type": "code",
   "execution_count": 2,
   "metadata": {},
   "outputs": [
    {
     "name": "stdout",
     "output_type": "stream",
     "text": [
      "loading dataset to memory...\n"
     ]
    },
    {
     "name": "stderr",
     "output_type": "stream",
     "text": [
      "100%|██████████| 24480/24480 [00:06<00:00, 3653.73it/s]\n",
      "100%|██████████| 8422/8422 [01:17<00:00, 109.26it/s]\n"
     ]
    },
    {
     "name": "stdout",
     "output_type": "stream",
     "text": [
      "mean\n",
      "loss_t_1: 0.42812910996956033\n",
      "loss_t_2: 0.43086442681849074\n",
      "loss_t_3: 0.43321257916362516\n",
      "loss_t_avg: 0.43073537198389206\n",
      "{'me_acc_15min': 0.9043265534233853, 'me_f1_15min': 0.9434127307327461, 'me_acc_30min': 0.8989073558541896, 'me_f1_30min': 0.9402151925569577, 'me_acc_45min': 0.8941683618825834, 'me_f1_45min': 0.9374173068994415}\n"
     ]
    },
    {
     "name": "stderr",
     "output_type": "stream",
     "text": [
      "100%|██████████| 8422/8422 [01:16<00:00, 110.30it/s]\n"
     ]
    },
    {
     "name": "stdout",
     "output_type": "stream",
     "text": [
      "last\n",
      "loss_t_1: 0.40203818784307\n",
      "loss_t_2: 0.4109436456309563\n",
      "loss_t_3: 0.416957384852524\n",
      "loss_t_avg: 0.4099797394421834\n",
      "{'me_acc_15min': 0.9441954758001383, 'me_f1_15min': 0.9662692520704294, 'me_acc_30min': 0.9263982169475783, 'me_f1_30min': 0.9556316075561401, 'me_acc_45min': 0.9143866656366603, 'me_f1_45min': 0.9484503656149597}\n"
     ]
    },
    {
     "name": "stderr",
     "output_type": "stream",
     "text": [
      "100%|██████████| 8134/8134 [00:10<00:00, 742.83it/s]"
     ]
    },
    {
     "name": "stdout",
     "output_type": "stream",
     "text": [
      "loss_t_avg: 0.4541082099164356\n",
      "None\n"
     ]
    },
    {
     "name": "stderr",
     "output_type": "stream",
     "text": [
      "\n"
     ]
    }
   ],
   "source": [
    "from utils import *\n",
    "\n",
    "dataset = ParkDataset('meter_dataset', len_x=50, in_memory=True)\n",
    "train_set = dataset[:16000]\n",
    "test_set = dataset[16000:]\n",
    "\n",
    "\n",
    "baseline(test_set, method='mean')\n",
    "baseline(test_set, method='last')\n",
    "baseline(test_set, method='yesterday')"
   ]
  },
  {
   "cell_type": "code",
   "execution_count": 2,
   "metadata": {},
   "outputs": [
    {
     "name": "stdout",
     "output_type": "stream",
     "text": [
      "loading dataset to memory...\n"
     ]
    },
    {
     "name": "stderr",
     "output_type": "stream",
     "text": [
      "100%|██████████| 24192/24192 [01:12<00:00, 333.55it/s]\n"
     ]
    }
   ],
   "source": [
    "from dataset import *\n",
    "\n",
    "dataset = ParkDataset('garage_dataset', len_x=10, in_memory=True)"
   ]
  },
  {
   "cell_type": "code",
   "execution_count": 4,
   "metadata": {},
   "outputs": [
    {
     "data": {
      "text/plain": [
       "torch.Size([116, 10])"
      ]
     },
     "execution_count": 4,
     "metadata": {},
     "output_type": "execute_result"
    }
   ],
   "source": [
    "dataset[0].x.shape"
   ]
  },
  {
   "cell_type": "code",
   "execution_count": null,
   "metadata": {},
   "outputs": [],
   "source": []
  },
  {
   "cell_type": "code",
   "execution_count": 1,
   "metadata": {},
   "outputs": [],
   "source": [
    "from utils import *\n",
    "\n",
    "dataset = CombinedDataset('./')"
   ]
  },
  {
   "cell_type": "code",
   "execution_count": 2,
   "metadata": {},
   "outputs": [
    {
     "data": {
      "text/plain": [
       "HeteroData(\n",
       "  meter=Data(x=[6225, 10], edge_index=[2, 1470532], y=[6225, 3]),\n",
       "  garage=Data(x=[121, 10], edge_index=[2, 262], y=[121, 3])\n",
       ")"
      ]
     },
     "execution_count": 2,
     "metadata": {},
     "output_type": "execute_result"
    }
   ],
   "source": [
    "dataset[0]"
   ]
  },
  {
   "cell_type": "code",
   "execution_count": 1,
   "metadata": {},
   "outputs": [
    {
     "data": {
      "text/plain": [
       "True"
      ]
     },
     "execution_count": 1,
     "metadata": {},
     "output_type": "execute_result"
    }
   ],
   "source": [
    "[1,2] == [1,2]"
   ]
  },
  {
   "cell_type": "code",
   "execution_count": 48,
   "metadata": {},
   "outputs": [
    {
     "data": {
      "text/plain": [
       "0.0"
      ]
     },
     "execution_count": 48,
     "metadata": {},
     "output_type": "execute_result"
    }
   ],
   "source": [
    "from utils import *\n",
    "from torch_geometric.loader import DataLoader\n",
    "import sklearn.metrics as metrics\n",
    "import torch\n",
    "from tqdm import tqdm\n",
    "\n",
    "dataset = ParkDataset('meter_dataset', len_x=1, len_y=1)\n",
    "\n",
    "# baseline(dataset[:100], method='1')\n",
    "y = dataset[-1].x[:, 0]\n",
    "x = torch.ones_like(y)\n",
    "\n",
    "metrics.accuracy_score(y, x)"
   ]
  },
  {
   "cell_type": "code",
   "execution_count": null,
   "metadata": {},
   "outputs": [],
   "source": []
  },
  {
   "cell_type": "code",
   "execution_count": 54,
   "metadata": {},
   "outputs": [
    {
     "name": "stderr",
     "output_type": "stream",
     "text": [
      "100%|██████████| 44065/44065 [00:12<00:00, 3528.59it/s]\n"
     ]
    }
   ],
   "source": [
    "import os\n",
    "\n",
    "f = open('problem.txt', 'w')\n",
    "for i, file in enumerate(tqdm(os.listdir('meter_dataset'))):\n",
    "    if torch.load('meter_dataset/' + file).sum() == 0:\n",
    "        f.write(str(file) + '\\n')\n",
    "f.close()"
   ]
  },
  {
   "cell_type": "code",
   "execution_count": 16,
   "metadata": {},
   "outputs": [],
   "source": [
    "from utils import *\n",
    "import torch.nn.functional as F\n",
    "from torch_geometric.nn import SAGEConv, SAGPooling, max_pool_neighbor_x\n",
    "\n",
    "dataset = ParkDataset('meter_dataset', len_x=10, len_y=3)\n",
    "\n",
    "data = dataset[0]\n",
    "\n",
    "conv = SAGEConv(10, 10)\n",
    "pool = max_pool_neighbor_x\n"
   ]
  },
  {
   "cell_type": "code",
   "execution_count": 19,
   "metadata": {},
   "outputs": [
    {
     "name": "stdout",
     "output_type": "stream",
     "text": [
      "tensor([1., 1., 1., 1., 1., 1., 1., 1., 1., 1.])\n",
      "tensor([1., 1., 1., 1., 1., 1., 1., 1., 1., 1.])\n"
     ]
    },
    {
     "data": {
      "text/plain": [
       "torch.Size([6815, 10])"
      ]
     },
     "execution_count": 19,
     "metadata": {},
     "output_type": "execute_result"
    }
   ],
   "source": [
    "x, edge_index = data.x, data.edge_index\n",
    "print(data.x[0])\n",
    "x = conv(x, edge_index)\n",
    "x.shape"
   ]
  },
  {
   "cell_type": "code",
   "execution_count": 18,
   "metadata": {},
   "outputs": [
    {
     "data": {
      "text/plain": [
       "torch.Size([6815, 10])"
      ]
     },
     "execution_count": 18,
     "metadata": {},
     "output_type": "execute_result"
    }
   ],
   "source": [
    "x = pool(x, edge_index)[0]\n",
    "x.shape"
   ]
  },
  {
   "cell_type": "code",
   "execution_count": 32,
   "metadata": {},
   "outputs": [],
   "source": [
    "import torch\n",
    "\n",
    "loss = torch.nn.BCELoss(reduction='none')"
   ]
  },
  {
   "cell_type": "code",
   "execution_count": 33,
   "metadata": {},
   "outputs": [
    {
     "data": {
      "text/plain": [
       "array([3.50697  , 3.5216434, 3.3602347], dtype=float32)"
      ]
     },
     "execution_count": 33,
     "metadata": {},
     "output_type": "execute_result"
    }
   ],
   "source": [
    "x = dataset[0].x\n",
    "y = dataset[0].y\n",
    "\n",
    "loss(x, y).cpu().mean(axis=0).numpy()"
   ]
  },
  {
   "cell_type": "code",
   "execution_count": 13,
   "metadata": {},
   "outputs": [],
   "source": [
    "from pprint import pprint\n",
    "\n",
    "a = {1:1, 2:2, 3:3, 4:4, 5:5}\n",
    "b = {6:6, 7:7, 8:8, 9:9}\n",
    "\n",
    "f = open('test.txt', 'w')\n",
    "f.write(str(a))\n",
    "f.close()"
   ]
  },
  {
   "cell_type": "code",
   "execution_count": 10,
   "metadata": {},
   "outputs": [
    {
     "name": "stdout",
     "output_type": "stream",
     "text": [
      "DataBatch(x=[20445, 1], edge_index=[2, 5217477], batch=[20445], ptr=[4])\n",
      "<class 'torch_geometric.data.batch.DataBatch'>\n"
     ]
    }
   ],
   "source": [
    "from torch_geometric.loader import DataLoader\n",
    "loader = DataLoader(dataset, batch_size=3, shuffle=False)\n",
    "\n",
    "for batch in loader:\n",
    "    print(batch)\n",
    "    print(type(batch))\n",
    "    b1 = batch\n",
    "    # y = model(batch)\n",
    "    break"
   ]
  },
  {
   "cell_type": "code",
   "execution_count": 11,
   "metadata": {},
   "outputs": [],
   "source": [
    "from torch_geometric.data.collate import collate\n",
    "from torch_geometric.data import Batch\n",
    "\n",
    "b2, _, _ = collate(Batch, [dataset[0], dataset[1], dataset[2]])"
   ]
  },
  {
   "cell_type": "code",
   "execution_count": 12,
   "metadata": {},
   "outputs": [
    {
     "data": {
      "text/plain": [
       "tensor(True)"
      ]
     },
     "execution_count": 12,
     "metadata": {},
     "output_type": "execute_result"
    }
   ],
   "source": [
    "(b1.x == b2.x).all()"
   ]
  },
  {
   "cell_type": "code",
   "execution_count": 13,
   "metadata": {},
   "outputs": [
    {
     "data": {
      "text/plain": [
       "tensor(True)"
      ]
     },
     "execution_count": 13,
     "metadata": {},
     "output_type": "execute_result"
    }
   ],
   "source": [
    "(b1.edge_index == b2.edge_index).all()"
   ]
  },
  {
   "cell_type": "code",
   "execution_count": null,
   "metadata": {},
   "outputs": [],
   "source": []
  },
  {
   "cell_type": "code",
   "execution_count": 5,
   "metadata": {},
   "outputs": [
    {
     "name": "stdout",
     "output_type": "stream",
     "text": [
      "DataBatch(x=[20445, 1], edge_index=[2, 5217477], batch=[20445], ptr=[4])\n",
      "DataBatch(x=[20445, 1], edge_index=[2, 5217477], batch=[20445], ptr=[4])\n"
     ]
    }
   ],
   "source": [
    "print(x)\n",
    "print(y)"
   ]
  },
  {
   "cell_type": "code",
   "execution_count": 7,
   "metadata": {},
   "outputs": [
    {
     "data": {
      "text/plain": [
       "6815"
      ]
     },
     "execution_count": 7,
     "metadata": {},
     "output_type": "execute_result"
    }
   ],
   "source": [
    "dataset[0].x.shape[0]"
   ]
  },
  {
   "cell_type": "code",
   "execution_count": 50,
   "metadata": {},
   "outputs": [
    {
     "name": "stdout",
     "output_type": "stream",
     "text": [
      "torch.Size([20445, 1])\n"
     ]
    }
   ],
   "source": [
    "print(y.x.shape)"
   ]
  },
  {
   "cell_type": "markdown",
   "metadata": {},
   "source": []
  },
  {
   "cell_type": "code",
   "execution_count": 28,
   "metadata": {},
   "outputs": [],
   "source": [
    "import torch\n",
    "from torch_geometric.data import Data\n",
    "\n",
    "edge_index = torch.tensor([[0],\n",
    "                           [0]], dtype=torch.long)\n",
    "x = torch.tensor([[0], [1]], dtype=torch.float)\n",
    "\n",
    "data_0 = Data(x=x, edge_index=edge_index)\n",
    "\n",
    "edge_index = torch.tensor([[0],\n",
    "                           [0]], dtype=torch.long)\n",
    "x = torch.tensor([[-1]], dtype=torch.float)\n",
    "\n",
    "data_1 = Data(x=x, edge_index=edge_index)\n",
    "\n",
    "b, _, _ = collate(Batch, [data_0, data_1])"
   ]
  },
  {
   "cell_type": "code",
   "execution_count": 29,
   "metadata": {},
   "outputs": [
    {
     "data": {
      "text/plain": [
       "tensor([[ 0.],\n",
       "        [ 1.],\n",
       "        [-1.]])"
      ]
     },
     "execution_count": 29,
     "metadata": {},
     "output_type": "execute_result"
    }
   ],
   "source": [
    "b.x"
   ]
  },
  {
   "cell_type": "code",
   "execution_count": 30,
   "metadata": {},
   "outputs": [
    {
     "data": {
      "text/plain": [
       "tensor([[0, 2],\n",
       "        [0, 2]])"
      ]
     },
     "execution_count": 30,
     "metadata": {},
     "output_type": "execute_result"
    }
   ],
   "source": [
    "b.edge_index"
   ]
  },
  {
   "cell_type": "code",
   "execution_count": 3,
   "metadata": {},
   "outputs": [],
   "source": [
    "import torch\n",
    "import os.path as osp\n",
    "\n",
    "xs = []\n",
    "for i in range(3):\n",
    "    x = torch.load(osp.join('meter_dataset', f'{i}.pt'))\n",
    "    xs.append(x)"
   ]
  },
  {
   "cell_type": "code",
   "execution_count": 10,
   "metadata": {},
   "outputs": [],
   "source": [
    "y = torch.stack(xs, axis=1)"
   ]
  },
  {
   "cell_type": "code",
   "execution_count": 12,
   "metadata": {},
   "outputs": [
    {
     "data": {
      "text/plain": [
       "torch.Size([6815, 3])"
      ]
     },
     "execution_count": 12,
     "metadata": {},
     "output_type": "execute_result"
    }
   ],
   "source": [
    "y.shape"
   ]
  },
  {
   "cell_type": "code",
   "execution_count": null,
   "metadata": {},
   "outputs": [],
   "source": []
  }
 ],
 "metadata": {
  "interpreter": {
   "hash": "976d2344685de94b800a8a260dc5bbd18e7557ef6a0bbba99b400c7404d3bc24"
  },
  "kernelspec": {
   "display_name": "Python 3.9.5 ('base')",
   "language": "python",
   "name": "python3"
  },
  "language_info": {
   "codemirror_mode": {
    "name": "ipython",
    "version": 3
   },
   "file_extension": ".py",
   "mimetype": "text/x-python",
   "name": "python",
   "nbconvert_exporter": "python",
   "pygments_lexer": "ipython3",
   "version": "3.9.5"
  },
  "orig_nbformat": 4
 },
 "nbformat": 4,
 "nbformat_minor": 2
}
