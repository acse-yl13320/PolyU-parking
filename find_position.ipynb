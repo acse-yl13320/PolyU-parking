{
 "cells": [
  {
   "cell_type": "code",
   "execution_count": 2,
   "metadata": {},
   "outputs": [],
   "source": [
    "import matplotlib.pyplot as plt\n",
    "import pandas as pd\n",
    "\n",
    "parking = pd.read_csv('parking.csv')"
   ]
  },
  {
   "cell_type": "code",
   "execution_count": 3,
   "metadata": {},
   "outputs": [
    {
     "data": {
      "text/html": [
       "<div>\n",
       "<style scoped>\n",
       "    .dataframe tbody tr th:only-of-type {\n",
       "        vertical-align: middle;\n",
       "    }\n",
       "\n",
       "    .dataframe tbody tr th {\n",
       "        vertical-align: top;\n",
       "    }\n",
       "\n",
       "    .dataframe thead th {\n",
       "        text-align: right;\n",
       "    }\n",
       "</style>\n",
       "<table border=\"1\" class=\"dataframe\">\n",
       "  <thead>\n",
       "    <tr style=\"text-align: right;\">\n",
       "      <th></th>\n",
       "      <th>PoleId</th>\n",
       "      <th>ParkingSpaceId</th>\n",
       "      <th>Region</th>\n",
       "      <th>Region_tc</th>\n",
       "      <th>Region_sc</th>\n",
       "      <th>District</th>\n",
       "      <th>District_tc</th>\n",
       "      <th>District_sc</th>\n",
       "      <th>SubDistrict</th>\n",
       "      <th>SubDistrict_tc</th>\n",
       "      <th>...</th>\n",
       "      <th>SectionOfStreet</th>\n",
       "      <th>SectionOfStreet_tc</th>\n",
       "      <th>SectionOfStreet_sc</th>\n",
       "      <th>Latitude</th>\n",
       "      <th>Longitude</th>\n",
       "      <th>VehicleType</th>\n",
       "      <th>LPP</th>\n",
       "      <th>OperatingPeriod</th>\n",
       "      <th>TimeUnit</th>\n",
       "      <th>PaymentUnit</th>\n",
       "    </tr>\n",
       "  </thead>\n",
       "  <tbody>\n",
       "    <tr>\n",
       "      <th>0</th>\n",
       "      <td>1</td>\n",
       "      <td>1A</td>\n",
       "      <td>Hong Kong</td>\n",
       "      <td>香港島</td>\n",
       "      <td>香港岛</td>\n",
       "      <td>Southern</td>\n",
       "      <td>南區</td>\n",
       "      <td>南区</td>\n",
       "      <td>Bays Areas</td>\n",
       "      <td>海灣</td>\n",
       "      <td>...</td>\n",
       "      <td>The Hong Kong Golf Club</td>\n",
       "      <td>香港哥爾夫球會</td>\n",
       "      <td>香港哥尔夫球会</td>\n",
       "      <td>22.245906</td>\n",
       "      <td>114.186243</td>\n",
       "      <td>A</td>\n",
       "      <td>30.0</td>\n",
       "      <td>D</td>\n",
       "      <td>15.0</td>\n",
       "      <td>2.0</td>\n",
       "    </tr>\n",
       "    <tr>\n",
       "      <th>1</th>\n",
       "      <td>1</td>\n",
       "      <td>1B</td>\n",
       "      <td>Hong Kong</td>\n",
       "      <td>香港島</td>\n",
       "      <td>香港岛</td>\n",
       "      <td>Southern</td>\n",
       "      <td>南區</td>\n",
       "      <td>南区</td>\n",
       "      <td>Bays Areas</td>\n",
       "      <td>海灣</td>\n",
       "      <td>...</td>\n",
       "      <td>The Hong Kong Golf Club</td>\n",
       "      <td>香港哥爾夫球會</td>\n",
       "      <td>香港哥尔夫球会</td>\n",
       "      <td>22.245918</td>\n",
       "      <td>114.186222</td>\n",
       "      <td>A</td>\n",
       "      <td>30.0</td>\n",
       "      <td>D</td>\n",
       "      <td>15.0</td>\n",
       "      <td>2.0</td>\n",
       "    </tr>\n",
       "    <tr>\n",
       "      <th>2</th>\n",
       "      <td>10</td>\n",
       "      <td>10B</td>\n",
       "      <td>Hong Kong</td>\n",
       "      <td>香港島</td>\n",
       "      <td>香港岛</td>\n",
       "      <td>Southern</td>\n",
       "      <td>南區</td>\n",
       "      <td>南区</td>\n",
       "      <td>Bays Areas</td>\n",
       "      <td>海灣</td>\n",
       "      <td>...</td>\n",
       "      <td>NW of Deep Water Bay Beach Restaurant (Coconut...</td>\n",
       "      <td>深水灣香島道</td>\n",
       "      <td>深水湾香岛道</td>\n",
       "      <td>22.245425</td>\n",
       "      <td>114.186874</td>\n",
       "      <td>A</td>\n",
       "      <td>120.0</td>\n",
       "      <td>D</td>\n",
       "      <td>15.0</td>\n",
       "      <td>2.0</td>\n",
       "    </tr>\n",
       "    <tr>\n",
       "      <th>3</th>\n",
       "      <td>100</td>\n",
       "      <td>100A</td>\n",
       "      <td>Hong Kong</td>\n",
       "      <td>香港島</td>\n",
       "      <td>香港岛</td>\n",
       "      <td>Southern</td>\n",
       "      <td>南區</td>\n",
       "      <td>南区</td>\n",
       "      <td>Bays Area</td>\n",
       "      <td>海灣</td>\n",
       "      <td>...</td>\n",
       "      <td>South Bay Beach</td>\n",
       "      <td>南灣</td>\n",
       "      <td>南湾</td>\n",
       "      <td>22.224440</td>\n",
       "      <td>114.198049</td>\n",
       "      <td>A</td>\n",
       "      <td>120.0</td>\n",
       "      <td>D</td>\n",
       "      <td>15.0</td>\n",
       "      <td>2.0</td>\n",
       "    </tr>\n",
       "    <tr>\n",
       "      <th>4</th>\n",
       "      <td>100</td>\n",
       "      <td>100B</td>\n",
       "      <td>Hong Kong</td>\n",
       "      <td>香港島</td>\n",
       "      <td>香港岛</td>\n",
       "      <td>Southern</td>\n",
       "      <td>南區</td>\n",
       "      <td>南区</td>\n",
       "      <td>Bays Area</td>\n",
       "      <td>海灣</td>\n",
       "      <td>...</td>\n",
       "      <td>South Bay Beach</td>\n",
       "      <td>南灣</td>\n",
       "      <td>南湾</td>\n",
       "      <td>22.224427</td>\n",
       "      <td>114.198031</td>\n",
       "      <td>A</td>\n",
       "      <td>120.0</td>\n",
       "      <td>D</td>\n",
       "      <td>15.0</td>\n",
       "      <td>2.0</td>\n",
       "    </tr>\n",
       "  </tbody>\n",
       "</table>\n",
       "<p>5 rows × 24 columns</p>\n",
       "</div>"
      ],
      "text/plain": [
       "   PoleId ParkingSpaceId     Region Region_tc Region_sc  District District_tc  \\\n",
       "0       1             1A  Hong Kong       香港島       香港岛  Southern          南區   \n",
       "1       1             1B  Hong Kong       香港島       香港岛  Southern          南區   \n",
       "2      10            10B  Hong Kong       香港島       香港岛  Southern          南區   \n",
       "3     100           100A  Hong Kong       香港島       香港岛  Southern          南區   \n",
       "4     100           100B  Hong Kong       香港島       香港岛  Southern          南區   \n",
       "\n",
       "  District_sc SubDistrict SubDistrict_tc  ...  \\\n",
       "0          南区  Bays Areas             海灣  ...   \n",
       "1          南区  Bays Areas             海灣  ...   \n",
       "2          南区  Bays Areas             海灣  ...   \n",
       "3          南区   Bays Area             海灣  ...   \n",
       "4          南区   Bays Area             海灣  ...   \n",
       "\n",
       "                                     SectionOfStreet SectionOfStreet_tc  \\\n",
       "0                            The Hong Kong Golf Club            香港哥爾夫球會   \n",
       "1                            The Hong Kong Golf Club            香港哥爾夫球會   \n",
       "2  NW of Deep Water Bay Beach Restaurant (Coconut...             深水灣香島道   \n",
       "3                                    South Bay Beach                 南灣   \n",
       "4                                    South Bay Beach                 南灣   \n",
       "\n",
       "  SectionOfStreet_sc   Latitude   Longitude VehicleType    LPP  \\\n",
       "0            香港哥尔夫球会  22.245906  114.186243           A   30.0   \n",
       "1            香港哥尔夫球会  22.245918  114.186222           A   30.0   \n",
       "2             深水湾香岛道  22.245425  114.186874           A  120.0   \n",
       "3                 南湾  22.224440  114.198049           A  120.0   \n",
       "4                 南湾  22.224427  114.198031           A  120.0   \n",
       "\n",
       "   OperatingPeriod  TimeUnit PaymentUnit  \n",
       "0                D      15.0         2.0  \n",
       "1                D      15.0         2.0  \n",
       "2                D      15.0         2.0  \n",
       "3                D      15.0         2.0  \n",
       "4                D      15.0         2.0  \n",
       "\n",
       "[5 rows x 24 columns]"
      ]
     },
     "execution_count": 3,
     "metadata": {},
     "output_type": "execute_result"
    }
   ],
   "source": [
    "parking.head()"
   ]
  },
  {
   "cell_type": "code",
   "execution_count": 3,
   "metadata": {},
   "outputs": [],
   "source": [
    "only_position = parking[['ParkingSpaceId', 'Latitude', 'Longitude']]"
   ]
  },
  {
   "cell_type": "code",
   "execution_count": 6,
   "metadata": {},
   "outputs": [
    {
     "data": {
      "text/html": [
       "<div>\n",
       "<style scoped>\n",
       "    .dataframe tbody tr th:only-of-type {\n",
       "        vertical-align: middle;\n",
       "    }\n",
       "\n",
       "    .dataframe tbody tr th {\n",
       "        vertical-align: top;\n",
       "    }\n",
       "\n",
       "    .dataframe thead th {\n",
       "        text-align: right;\n",
       "    }\n",
       "</style>\n",
       "<table border=\"1\" class=\"dataframe\">\n",
       "  <thead>\n",
       "    <tr style=\"text-align: right;\">\n",
       "      <th></th>\n",
       "      <th>ParkingSpaceId</th>\n",
       "      <th>Latitude</th>\n",
       "      <th>Longitude</th>\n",
       "    </tr>\n",
       "  </thead>\n",
       "  <tbody>\n",
       "    <tr>\n",
       "      <th>0</th>\n",
       "      <td>1A</td>\n",
       "      <td>22.245906</td>\n",
       "      <td>114.186243</td>\n",
       "    </tr>\n",
       "    <tr>\n",
       "      <th>1</th>\n",
       "      <td>1B</td>\n",
       "      <td>22.245918</td>\n",
       "      <td>114.186222</td>\n",
       "    </tr>\n",
       "    <tr>\n",
       "      <th>2</th>\n",
       "      <td>10B</td>\n",
       "      <td>22.245425</td>\n",
       "      <td>114.186874</td>\n",
       "    </tr>\n",
       "    <tr>\n",
       "      <th>3</th>\n",
       "      <td>100A</td>\n",
       "      <td>22.224440</td>\n",
       "      <td>114.198049</td>\n",
       "    </tr>\n",
       "    <tr>\n",
       "      <th>4</th>\n",
       "      <td>100B</td>\n",
       "      <td>22.224427</td>\n",
       "      <td>114.198031</td>\n",
       "    </tr>\n",
       "  </tbody>\n",
       "</table>\n",
       "</div>"
      ],
      "text/plain": [
       "  ParkingSpaceId   Latitude   Longitude\n",
       "0             1A  22.245906  114.186243\n",
       "1             1B  22.245918  114.186222\n",
       "2            10B  22.245425  114.186874\n",
       "3           100A  22.224440  114.198049\n",
       "4           100B  22.224427  114.198031"
      ]
     },
     "execution_count": 6,
     "metadata": {},
     "output_type": "execute_result"
    }
   ],
   "source": [
    "only_position.head()"
   ]
  },
  {
   "cell_type": "code",
   "execution_count": 7,
   "metadata": {},
   "outputs": [],
   "source": [
    "only_position.to_csv('park_position.csv', header=False, index=False)"
   ]
  },
  {
   "cell_type": "code",
   "execution_count": 21,
   "metadata": {},
   "outputs": [
    {
     "data": {
      "text/plain": [
       "(array([17604.,  1065.,     0.,     0.,     0.,     0.,     0.,     0.,\n",
       "            0.,     0.,     0.,     0.,     0.,     0.,     0.,     0.,\n",
       "            0.,     0.,     0.,     0.,     0.,     0.,     0.,     0.,\n",
       "            0.,     0.,     0.,     0.,     0.,     0.,     0.,     0.,\n",
       "            0.,     0.,     0.,     0.,     0.,     0.,     0.,     0.,\n",
       "            0.,     0.,     0.,     0.,     0.,     0.,     0.,     0.,\n",
       "            0.,     0.,     0.,     0.,     0.,     0.,     0.,     0.,\n",
       "            0.,     0.,     0.,     0.,     0.,     0.,     0.,     0.,\n",
       "            0.,     0.,     0.,     0.,     0.,     0.,     0.,     0.,\n",
       "            0.,     0.,     0.,     0.,     0.,     0.,     0.,     0.,\n",
       "            0.,     0.,     0.,     0.,     0.,     0.,     0.,     0.,\n",
       "            0.,     0.,     0.,     0.,     0.,     0.,     0.,     0.,\n",
       "            0.,     0.,     0.,    33.]),\n",
       " array([22.21172738, 22.47811511, 22.74450285, 23.01089058, 23.27727832,\n",
       "        23.54366605, 23.81005379, 24.07644152, 24.34282926, 24.60921699,\n",
       "        24.87560473, 25.14199246, 25.4083802 , 25.67476793, 25.94115567,\n",
       "        26.2075434 , 26.47393114, 26.74031887, 27.00670661, 27.27309434,\n",
       "        27.53948208, 27.80586982, 28.07225755, 28.33864529, 28.60503302,\n",
       "        28.87142076, 29.13780849, 29.40419623, 29.67058396, 29.9369717 ,\n",
       "        30.20335943, 30.46974717, 30.7361349 , 31.00252264, 31.26891037,\n",
       "        31.53529811, 31.80168584, 32.06807358, 32.33446131, 32.60084905,\n",
       "        32.86723679, 33.13362452, 33.40001226, 33.66639999, 33.93278773,\n",
       "        34.19917546, 34.4655632 , 34.73195093, 34.99833867, 35.2647264 ,\n",
       "        35.53111414, 35.79750187, 36.06388961, 36.33027734, 36.59666508,\n",
       "        36.86305281, 37.12944055, 37.39582828, 37.66221602, 37.92860375,\n",
       "        38.19499149, 38.46137923, 38.72776696, 38.9941547 , 39.26054243,\n",
       "        39.52693017, 39.7933179 , 40.05970564, 40.32609337, 40.59248111,\n",
       "        40.85886884, 41.12525658, 41.39164431, 41.65803205, 41.92441978,\n",
       "        42.19080752, 42.45719525, 42.72358299, 42.98997072, 43.25635846,\n",
       "        43.5227462 , 43.78913393, 44.05552167, 44.3219094 , 44.58829714,\n",
       "        44.85468487, 45.12107261, 45.38746034, 45.65384808, 45.92023581,\n",
       "        46.18662355, 46.45301128, 46.71939902, 46.98578675, 47.25217449,\n",
       "        47.51856222, 47.78494996, 48.05133769, 48.31772543, 48.58411316,\n",
       "        48.8505009 ]),\n",
       " <BarContainer object of 100 artists>)"
      ]
     },
     "execution_count": 21,
     "metadata": {},
     "output_type": "execute_result"
    },
    {
     "data": {
      "image/png": "[encoded data removed]",
      "text/plain": [
       "<Figure size 432x288 with 1 Axes>"
      ]
     },
     "metadata": {
      "needs_background": "light"
     },
     "output_type": "display_data"
    }
   ],
   "source": [
    "plt.hist(only_position['Latitude'], bins=100)"
   ]
  },
  {
   "cell_type": "code",
   "execution_count": 22,
   "metadata": {},
   "outputs": [
    {
     "data": {
      "text/plain": [
       "(array([   33.,     0.,     0.,     0.,     0.,     0.,     0.,     0.,\n",
       "            0.,     0.,     0.,     0.,     0.,     0.,     0.,     0.,\n",
       "            0.,     0.,     0.,     0.,     0.,     0.,     0.,     0.,\n",
       "            0.,     0.,     0.,     0.,     0.,     0.,     0.,     0.,\n",
       "            0.,     0.,     0.,     0.,     0.,     0.,     0.,     0.,\n",
       "            0.,     0.,     0.,     0.,     0.,     0.,     0.,     0.,\n",
       "            0.,     0.,     0.,     0.,     0.,     0.,     0.,     0.,\n",
       "            0.,     0.,     0.,     0.,     0.,     0.,     0.,     0.,\n",
       "            0.,     0.,     0.,     0.,     0.,     0.,     0.,     0.,\n",
       "            0.,     0.,     0.,     0.,     0.,     0.,     0.,     0.,\n",
       "            0.,     0.,     0.,     0.,     0.,     0.,     0.,     0.,\n",
       "            0.,     0.,     0.,     0.,     0.,     0.,     0.,     0.,\n",
       "            0.,     0.,     0., 18669.]),\n",
       " array([  2.3021222 ,   3.42209001,   4.54205782,   5.66202563,\n",
       "          6.78199344,   7.90196125,   9.02192907,  10.14189688,\n",
       "         11.26186469,  12.3818325 ,  13.50180031,  14.62176812,\n",
       "         15.74173593,  16.86170374,  17.98167155,  19.10163937,\n",
       "         20.22160718,  21.34157499,  22.4615428 ,  23.58151061,\n",
       "         24.70147842,  25.82144623,  26.94141404,  28.06138185,\n",
       "         29.18134966,  30.30131747,  31.42128529,  32.5412531 ,\n",
       "         33.66122091,  34.78118872,  35.90115653,  37.02112434,\n",
       "         38.14109215,  39.26105996,  40.38102777,  41.50099558,\n",
       "         42.6209634 ,  43.74093121,  44.86089902,  45.98086683,\n",
       "         47.10083464,  48.22080245,  49.34077026,  50.46073807,\n",
       "         51.58070588,  52.70067369,  53.82064151,  54.94060932,\n",
       "         56.06057713,  57.18054494,  58.30051275,  59.42048056,\n",
       "         60.54044837,  61.66041618,  62.78038399,  63.9003518 ,\n",
       "         65.02031962,  66.14028743,  67.26025524,  68.38022305,\n",
       "         69.50019086,  70.62015867,  71.74012648,  72.86009429,\n",
       "         73.9800621 ,  75.10002991,  76.21999773,  77.33996554,\n",
       "         78.45993335,  79.57990116,  80.69986897,  81.81983678,\n",
       "         82.93980459,  84.0597724 ,  85.17974021,  86.29970803,\n",
       "         87.41967584,  88.53964365,  89.65961146,  90.77957927,\n",
       "         91.89954708,  93.01951489,  94.1394827 ,  95.25945051,\n",
       "         96.37941832,  97.49938613,  98.61935395,  99.73932176,\n",
       "        100.85928957, 101.97925738, 103.09922519, 104.219193  ,\n",
       "        105.33916081, 106.45912862, 107.57909643, 108.69906425,\n",
       "        109.81903206, 110.93899987, 112.05896768, 113.17893549,\n",
       "        114.2989033 ]),\n",
       " <BarContainer object of 100 artists>)"
      ]
     },
     "execution_count": 22,
     "metadata": {},
     "output_type": "execute_result"
    },
    {
     "data": {
      "image/png": "[encoded data removed]",
      "text/plain": [
       "<Figure size 432x288 with 1 Axes>"
      ]
     },
     "metadata": {
      "needs_background": "light"
     },
     "output_type": "display_data"
    }
   ],
   "source": [
    "plt.hist(only_position['Longitude'], bins=100)"
   ]
  },
  {
   "cell_type": "code",
   "execution_count": 24,
   "metadata": {},
   "outputs": [
    {
     "data": {
      "text/plain": [
       "22.21172737509096"
      ]
     },
     "execution_count": 24,
     "metadata": {},
     "output_type": "execute_result"
    }
   ],
   "source": [
    "sorted(only_position['Latitude'])[0]"
   ]
  },
  {
   "cell_type": "code",
   "execution_count": 4,
   "metadata": {},
   "outputs": [
    {
     "data": {
      "text/plain": [
       "22.5249631"
      ]
     },
     "execution_count": 4,
     "metadata": {},
     "output_type": "execute_result"
    }
   ],
   "source": [
    "sorted(only_position['Latitude'])[-34]"
   ]
  },
  {
   "cell_type": "code",
   "execution_count": 9,
   "metadata": {},
   "outputs": [
    {
     "data": {
      "text/plain": [
       "113.8900704"
      ]
     },
     "execution_count": 9,
     "metadata": {},
     "output_type": "execute_result"
    }
   ],
   "source": [
    "sorted(only_position['Longitude'])[33]"
   ]
  },
  {
   "cell_type": "code",
   "execution_count": 6,
   "metadata": {},
   "outputs": [
    {
     "data": {
      "text/plain": [
       "114.2989033"
      ]
     },
     "execution_count": 6,
     "metadata": {},
     "output_type": "execute_result"
    }
   ],
   "source": [
    "sorted(only_position['Longitude'])[-1]"
   ]
  }
 ],
 "metadata": {
  "interpreter": {
   "hash": "b1aa3296a69301686302428a39db473876c16cfd899a8e4e77288f6eb7866a02"
  },
  "kernelspec": {
   "display_name": "Python 3.9.5 ('base')",
   "language": "python",
   "name": "python3"
  },
  "language_info": {
   "codemirror_mode": {
    "name": "ipython",
    "version": 3
   },
   "file_extension": ".py",
   "mimetype": "text/x-python",
   "name": "python",
   "nbconvert_exporter": "python",
   "pygments_lexer": "ipython3",
   "version": "3.9.5"
  },
  "orig_nbformat": 4
 },
 "nbformat": 4,
 "nbformat_minor": 2
}
